{
 "cells": [
  {
   "cell_type": "code",
   "execution_count": 1,
   "metadata": {},
   "outputs": [],
   "source": [
    "import warnings\n",
    "import requests\n",
    "warnings.filterwarnings('ignore')\n",
    "\n",
    "\n",
    "from pathlib import Path\n",
    "import os, sys\n",
    "\n",
    "parent = os.path.abspath('..')\n",
    "sys.path.insert(1, parent)\n",
    "from io import BytesIO\n",
    "from zipfile import ZipFile, BadZipFile\n",
    "\n",
    "import numpy as np\n",
    "import pandas as pd\n",
    "\n",
    "\n",
    "from numpy.random import choice, normal\n",
    "\n",
    "import seaborn as sns\n",
    "import matplotlib.pyplot as plt\n",
    "import joblib\n",
    "from matplotlib.ticker import FuncFormatter\n",
    "\n",
    "\n",
    "from numba import jit\n",
    "\n",
    "\n",
    "from matplotlib import cm\n",
    "from itertools import product\n",
    "\n",
    "import time\n",
    "from datetime import datetime, timedelta\n",
    "import datetime\n",
    "import plotly.io as pio\n",
    "import plotly.express as px\n",
    "\n",
    "import talib\n",
    "\n",
    "#import gtts\n",
    "#from playsound import playsound\n",
    "\n",
    "\n",
    "from scipy.stats import spearmanr\n",
    "from sklearn.datasets import fetch_openml\n",
    "from sklearn.metrics import mean_squared_error, explained_variance_score, roc_curve, make_scorer, roc_auc_score, mean_absolute_error, recall_score, precision_score, accuracy_score, confusion_matrix, ConfusionMatrixDisplay\n",
    "from sklearn.preprocessing import StandardScaler\n",
    "from sklearn.linear_model import LinearRegression, Ridge,  LogisticRegression\n",
    "from sklearn.model_selection import GridSearchCV, train_test_split, learning_curve, cross_val_score\n",
    "from sklearn.tree import DecisionTreeClassifier, DecisionTreeRegressor, export_graphviz, _tree\n",
    "from sklearn import tree\n",
    "from sklearn.ensemble import BaggingRegressor, BaggingClassifier, RandomForestClassifier, RandomForestRegressor,  GradientBoostingClassifier, GradientBoostingRegressor, VotingClassifier\n",
    "\n",
    "\n",
    "\n",
    "\n",
    "#/Users/johnh/Macro3/Macro\n",
    "#sys.path.append('/Users/johnh/Macro3/Macro')\n",
    "pd.set_option('display.expand_frame_repr', False)\n",
    "\n",
    "sns.set_style('whitegrid')\n",
    "idx = pd.IndexSlice\n",
    "\n",
    "pd.options.display.max_rows = 500\n",
    "\n",
    "\n",
    "from joblib import load\n",
    "\n",
    "\n",
    "\n",
    "\n",
    "from joblib import Parallel, delayed\n",
    "\n",
    "\n"
   ]
  },
  {
   "cell_type": "code",
   "execution_count": null,
   "metadata": {},
   "outputs": [],
   "source": []
  },
  {
   "cell_type": "code",
   "execution_count": 1,
   "metadata": {},
   "outputs": [],
   "source": [
    "import DataHacker as dh"
   ]
  },
  {
   "cell_type": "code",
   "execution_count": 2,
   "metadata": {},
   "outputs": [],
   "source": [
    "og = dh.Organizer(ticker='amzn')"
   ]
  },
  {
   "cell_type": "code",
   "execution_count": 4,
   "metadata": {},
   "outputs": [
    {
     "data": {
      "text/plain": [
       "array([array([0]), 56.51], dtype=object)"
      ]
     },
     "execution_count": 4,
     "metadata": {},
     "output_type": "execute_result"
    }
   ],
   "source": [
    "og.get_pred()"
   ]
  },
  {
   "cell_type": "code",
   "execution_count": 5,
   "metadata": {},
   "outputs": [
    {
     "data": {
      "text/html": [
       "<div>\n",
       "<style scoped>\n",
       "    .dataframe tbody tr th:only-of-type {\n",
       "        vertical-align: middle;\n",
       "    }\n",
       "\n",
       "    .dataframe tbody tr th {\n",
       "        vertical-align: top;\n",
       "    }\n",
       "\n",
       "    .dataframe thead th {\n",
       "        text-align: right;\n",
       "    }\n",
       "</style>\n",
       "<table border=\"1\" class=\"dataframe\">\n",
       "  <thead>\n",
       "    <tr style=\"text-align: right;\">\n",
       "      <th></th>\n",
       "      <th>RET 1</th>\n",
       "      <th>RET 3</th>\n",
       "      <th>RET 5</th>\n",
       "      <th>RET 8</th>\n",
       "      <th>RET 21</th>\n",
       "      <th>VOL</th>\n",
       "      <th>target</th>\n",
       "    </tr>\n",
       "    <tr>\n",
       "      <th>Date</th>\n",
       "      <th></th>\n",
       "      <th></th>\n",
       "      <th></th>\n",
       "      <th></th>\n",
       "      <th></th>\n",
       "      <th></th>\n",
       "      <th></th>\n",
       "    </tr>\n",
       "  </thead>\n",
       "  <tbody>\n",
       "    <tr>\n",
       "      <th>1999-03-12</th>\n",
       "      <td>NaN</td>\n",
       "      <td>NaN</td>\n",
       "      <td>NaN</td>\n",
       "      <td>NaN</td>\n",
       "      <td>NaN</td>\n",
       "      <td>NaN</td>\n",
       "      <td>1</td>\n",
       "    </tr>\n",
       "    <tr>\n",
       "      <th>1999-03-15</th>\n",
       "      <td>0.009740</td>\n",
       "      <td>NaN</td>\n",
       "      <td>NaN</td>\n",
       "      <td>NaN</td>\n",
       "      <td>NaN</td>\n",
       "      <td>-0.436166</td>\n",
       "      <td>1</td>\n",
       "    </tr>\n",
       "    <tr>\n",
       "      <th>1999-03-16</th>\n",
       "      <td>0.025723</td>\n",
       "      <td>NaN</td>\n",
       "      <td>NaN</td>\n",
       "      <td>NaN</td>\n",
       "      <td>NaN</td>\n",
       "      <td>0.990260</td>\n",
       "      <td>1</td>\n",
       "    </tr>\n",
       "    <tr>\n",
       "      <th>1999-03-17</th>\n",
       "      <td>0.004702</td>\n",
       "      <td>0.040584</td>\n",
       "      <td>NaN</td>\n",
       "      <td>NaN</td>\n",
       "      <td>NaN</td>\n",
       "      <td>-0.080404</td>\n",
       "      <td>1</td>\n",
       "    </tr>\n",
       "    <tr>\n",
       "      <th>1999-03-18</th>\n",
       "      <td>0.001560</td>\n",
       "      <td>0.032154</td>\n",
       "      <td>NaN</td>\n",
       "      <td>NaN</td>\n",
       "      <td>NaN</td>\n",
       "      <td>-0.260340</td>\n",
       "      <td>0</td>\n",
       "    </tr>\n",
       "    <tr>\n",
       "      <th>...</th>\n",
       "      <td>...</td>\n",
       "      <td>...</td>\n",
       "      <td>...</td>\n",
       "      <td>...</td>\n",
       "      <td>...</td>\n",
       "      <td>...</td>\n",
       "      <td>...</td>\n",
       "    </tr>\n",
       "    <tr>\n",
       "      <th>2023-04-11</th>\n",
       "      <td>-0.001528</td>\n",
       "      <td>-0.003921</td>\n",
       "      <td>0.002301</td>\n",
       "      <td>0.012454</td>\n",
       "      <td>0.063303</td>\n",
       "      <td>0.489370</td>\n",
       "      <td>0</td>\n",
       "    </tr>\n",
       "    <tr>\n",
       "      <th>2023-04-12</th>\n",
       "      <td>-0.001968</td>\n",
       "      <td>-0.009764</td>\n",
       "      <td>0.003904</td>\n",
       "      <td>0.009567</td>\n",
       "      <td>0.050947</td>\n",
       "      <td>0.009507</td>\n",
       "      <td>1</td>\n",
       "    </tr>\n",
       "    <tr>\n",
       "      <th>2023-04-13</th>\n",
       "      <td>0.009969</td>\n",
       "      <td>0.006441</td>\n",
       "      <td>0.004030</td>\n",
       "      <td>0.011410</td>\n",
       "      <td>0.062525</td>\n",
       "      <td>0.188558</td>\n",
       "      <td>0</td>\n",
       "    </tr>\n",
       "    <tr>\n",
       "      <th>2023-04-14</th>\n",
       "      <td>-0.004719</td>\n",
       "      <td>0.003225</td>\n",
       "      <td>-0.004611</td>\n",
       "      <td>0.005534</td>\n",
       "      <td>0.038951</td>\n",
       "      <td>-0.410271</td>\n",
       "      <td>1</td>\n",
       "    </tr>\n",
       "    <tr>\n",
       "      <th>2023-04-17</th>\n",
       "      <td>0.001362</td>\n",
       "      <td>0.006573</td>\n",
       "      <td>0.003057</td>\n",
       "      <td>0.010503</td>\n",
       "      <td>0.041074</td>\n",
       "      <td>-0.593050</td>\n",
       "      <td>0</td>\n",
       "    </tr>\n",
       "  </tbody>\n",
       "</table>\n",
       "<p>6064 rows × 7 columns</p>\n",
       "</div>"
      ],
      "text/plain": [
       "               RET 1     RET 3     RET 5     RET 8    RET 21       VOL  target\n",
       "Date                                                                          \n",
       "1999-03-12       NaN       NaN       NaN       NaN       NaN       NaN       1\n",
       "1999-03-15  0.009740       NaN       NaN       NaN       NaN -0.436166       1\n",
       "1999-03-16  0.025723       NaN       NaN       NaN       NaN  0.990260       1\n",
       "1999-03-17  0.004702  0.040584       NaN       NaN       NaN -0.080404       1\n",
       "1999-03-18  0.001560  0.032154       NaN       NaN       NaN -0.260340       0\n",
       "...              ...       ...       ...       ...       ...       ...     ...\n",
       "2023-04-11 -0.001528 -0.003921  0.002301  0.012454  0.063303  0.489370       0\n",
       "2023-04-12 -0.001968 -0.009764  0.003904  0.009567  0.050947  0.009507       1\n",
       "2023-04-13  0.009969  0.006441  0.004030  0.011410  0.062525  0.188558       0\n",
       "2023-04-14 -0.004719  0.003225 -0.004611  0.005534  0.038951 -0.410271       1\n",
       "2023-04-17  0.001362  0.006573  0.003057  0.010503  0.041074 -0.593050       0\n",
       "\n",
       "[6064 rows x 7 columns]"
      ]
     },
     "execution_count": 5,
     "metadata": {},
     "output_type": "execute_result"
    }
   ],
   "source": [
    "og.new_data"
   ]
  },
  {
   "cell_type": "code",
   "execution_count": 23,
   "metadata": {},
   "outputs": [],
   "source": [
    "prices = dh.APIPull('AAPL').data.copy()"
   ]
  },
  {
   "cell_type": "code",
   "execution_count": 24,
   "metadata": {},
   "outputs": [],
   "source": [
    "data = prices.copy()"
   ]
  },
  {
   "cell_type": "code",
   "execution_count": 25,
   "metadata": {},
   "outputs": [],
   "source": [
    "list1 = [1,3, 5, 8, 21]\n",
    "list2 = [1]\n",
    "\n",
    "for i in list1:\n",
    "    data[f'RET {i}'] = data['close'].pct_change(i)\n",
    "\n",
    "data['VOL'] = data['volume'].pct_change(1)\n",
    "\n",
    "data['target'] = data['RET 1'].shift(-1)\n",
    "data['target'] = (data['target'] > 0).astype(int)\n",
    "\n",
    "\n",
    "data = data.drop(['open', 'high', 'low', 'close', 'volume'],axis=1)\n",
    "data = data.dropna()"
   ]
  },
  {
   "cell_type": "code",
   "execution_count": 26,
   "metadata": {},
   "outputs": [
    {
     "data": {
      "text/html": [
       "<div>\n",
       "<style scoped>\n",
       "    .dataframe tbody tr th:only-of-type {\n",
       "        vertical-align: middle;\n",
       "    }\n",
       "\n",
       "    .dataframe tbody tr th {\n",
       "        vertical-align: top;\n",
       "    }\n",
       "\n",
       "    .dataframe thead th {\n",
       "        text-align: right;\n",
       "    }\n",
       "</style>\n",
       "<table border=\"1\" class=\"dataframe\">\n",
       "  <thead>\n",
       "    <tr style=\"text-align: right;\">\n",
       "      <th></th>\n",
       "      <th>RET 1</th>\n",
       "      <th>RET 3</th>\n",
       "      <th>RET 5</th>\n",
       "      <th>target</th>\n",
       "    </tr>\n",
       "    <tr>\n",
       "      <th>Date</th>\n",
       "      <th></th>\n",
       "      <th></th>\n",
       "      <th></th>\n",
       "      <th></th>\n",
       "    </tr>\n",
       "  </thead>\n",
       "  <tbody>\n",
       "    <tr>\n",
       "      <th>1999-03-19</th>\n",
       "      <td>-0.056338</td>\n",
       "      <td>-0.056338</td>\n",
       "      <td>0.009416</td>\n",
       "      <td>1</td>\n",
       "    </tr>\n",
       "    <tr>\n",
       "      <th>1999-03-22</th>\n",
       "      <td>0.046642</td>\n",
       "      <td>0.029359</td>\n",
       "      <td>0.029359</td>\n",
       "      <td>0</td>\n",
       "    </tr>\n",
       "    <tr>\n",
       "      <th>1999-03-23</th>\n",
       "      <td>-0.058823</td>\n",
       "      <td>-0.070421</td>\n",
       "      <td>-0.070421</td>\n",
       "      <td>1</td>\n",
       "    </tr>\n",
       "    <tr>\n",
       "      <th>1999-03-24</th>\n",
       "      <td>0.020832</td>\n",
       "      <td>0.005597</td>\n",
       "      <td>-0.011008</td>\n",
       "      <td>1</td>\n",
       "    </tr>\n",
       "    <tr>\n",
       "      <th>1999-03-25</th>\n",
       "      <td>0.003710</td>\n",
       "      <td>-0.035652</td>\n",
       "      <td>-0.047535</td>\n",
       "      <td>0</td>\n",
       "    </tr>\n",
       "    <tr>\n",
       "      <th>...</th>\n",
       "      <td>...</td>\n",
       "      <td>...</td>\n",
       "      <td>...</td>\n",
       "      <td>...</td>\n",
       "    </tr>\n",
       "    <tr>\n",
       "      <th>2023-04-11</th>\n",
       "      <td>-0.007591</td>\n",
       "      <td>-0.018075</td>\n",
       "      <td>-0.032316</td>\n",
       "      <td>0</td>\n",
       "    </tr>\n",
       "    <tr>\n",
       "      <th>2023-04-12</th>\n",
       "      <td>-0.004353</td>\n",
       "      <td>-0.027693</td>\n",
       "      <td>-0.033388</td>\n",
       "      <td>1</td>\n",
       "    </tr>\n",
       "    <tr>\n",
       "      <th>2023-04-13</th>\n",
       "      <td>0.034104</td>\n",
       "      <td>0.021786</td>\n",
       "      <td>0.010992</td>\n",
       "      <td>0</td>\n",
       "    </tr>\n",
       "    <tr>\n",
       "      <th>2023-04-14</th>\n",
       "      <td>-0.002114</td>\n",
       "      <td>0.027425</td>\n",
       "      <td>0.003340</td>\n",
       "      <td>0</td>\n",
       "    </tr>\n",
       "    <tr>\n",
       "      <th>2023-04-17</th>\n",
       "      <td>-0.006023</td>\n",
       "      <td>0.025703</td>\n",
       "      <td>0.013485</td>\n",
       "      <td>0</td>\n",
       "    </tr>\n",
       "  </tbody>\n",
       "</table>\n",
       "<p>6059 rows × 4 columns</p>\n",
       "</div>"
      ],
      "text/plain": [
       "               RET 1     RET 3     RET 5  target\n",
       "Date                                            \n",
       "1999-03-19 -0.056338 -0.056338  0.009416       1\n",
       "1999-03-22  0.046642  0.029359  0.029359       0\n",
       "1999-03-23 -0.058823 -0.070421 -0.070421       1\n",
       "1999-03-24  0.020832  0.005597 -0.011008       1\n",
       "1999-03-25  0.003710 -0.035652 -0.047535       0\n",
       "...              ...       ...       ...     ...\n",
       "2023-04-11 -0.007591 -0.018075 -0.032316       0\n",
       "2023-04-12 -0.004353 -0.027693 -0.033388       1\n",
       "2023-04-13  0.034104  0.021786  0.010992       0\n",
       "2023-04-14 -0.002114  0.027425  0.003340       0\n",
       "2023-04-17 -0.006023  0.025703  0.013485       0\n",
       "\n",
       "[6059 rows x 4 columns]"
      ]
     },
     "execution_count": 26,
     "metadata": {},
     "output_type": "execute_result"
    }
   ],
   "source": [
    "data"
   ]
  },
  {
   "cell_type": "code",
   "execution_count": 34,
   "metadata": {},
   "outputs": [],
   "source": [
    "def split(input_data):\n",
    "    data = input_data.copy()\n",
    "    oos = data['2023':]\n",
    "    data = data[:'2023']    \n",
    "\n",
    "    return data, oos\n",
    "\n",
    "def create_xy(input_data):\n",
    "    data = input_data.copy()\n",
    "    y = data.filter(like='target')\n",
    "    X = data.drop(y.columns, axis=1)\n",
    "\n",
    "    return X,y\n",
    "\n"
   ]
  },
  {
   "cell_type": "code",
   "execution_count": 35,
   "metadata": {},
   "outputs": [],
   "source": [
    "data, oos = split(data)\n",
    "X, y = create_xy(data)\n",
    "X2, y2 = create_xy(oos)"
   ]
  },
  {
   "cell_type": "code",
   "execution_count": 37,
   "metadata": {},
   "outputs": [],
   "source": [
    "estimators_int = 250\n",
    "\n",
    "max_depth_int = 25\n",
    "\n",
    "min_split = 90\n",
    "# min_split = 60\n",
    "\n",
    "min_leaf = 40\n",
    "\n",
    "f_leaf = 0.0\n",
    "\n",
    "features = 'sqrt'\n",
    "\n",
    "\n",
    "rf_clf = RandomForestClassifier(n_estimators=estimators_int,             # default changed from 10 to 100 in version 0.22 \n",
    "                                    criterion='entropy', \n",
    "                                    max_depth=max_depth_int, \n",
    "                                    min_samples_split=min_split, \n",
    "                                    min_samples_leaf=min_leaf, \n",
    "                                    min_weight_fraction_leaf=f_leaf, \n",
    "                                    max_features=features,\n",
    "                                    max_leaf_nodes=None, \n",
    "                                    min_impurity_decrease=0.0, \n",
    "                                    bootstrap=True, \n",
    "                                    oob_score=True, \n",
    "                                    random_state=5,\n",
    "                                    n_jobs=-1,\n",
    "                                    warm_start=False, \n",
    "                                    verbose=0)\n",
    "model = rf_clf"
   ]
  },
  {
   "cell_type": "code",
   "execution_count": 38,
   "metadata": {},
   "outputs": [
    {
     "data": {
      "text/html": [
       "<style>#sk-container-id-1 {color: black;background-color: white;}#sk-container-id-1 pre{padding: 0;}#sk-container-id-1 div.sk-toggleable {background-color: white;}#sk-container-id-1 label.sk-toggleable__label {cursor: pointer;display: block;width: 100%;margin-bottom: 0;padding: 0.3em;box-sizing: border-box;text-align: center;}#sk-container-id-1 label.sk-toggleable__label-arrow:before {content: \"▸\";float: left;margin-right: 0.25em;color: #696969;}#sk-container-id-1 label.sk-toggleable__label-arrow:hover:before {color: black;}#sk-container-id-1 div.sk-estimator:hover label.sk-toggleable__label-arrow:before {color: black;}#sk-container-id-1 div.sk-toggleable__content {max-height: 0;max-width: 0;overflow: hidden;text-align: left;background-color: #f0f8ff;}#sk-container-id-1 div.sk-toggleable__content pre {margin: 0.2em;color: black;border-radius: 0.25em;background-color: #f0f8ff;}#sk-container-id-1 input.sk-toggleable__control:checked~div.sk-toggleable__content {max-height: 200px;max-width: 100%;overflow: auto;}#sk-container-id-1 input.sk-toggleable__control:checked~label.sk-toggleable__label-arrow:before {content: \"▾\";}#sk-container-id-1 div.sk-estimator input.sk-toggleable__control:checked~label.sk-toggleable__label {background-color: #d4ebff;}#sk-container-id-1 div.sk-label input.sk-toggleable__control:checked~label.sk-toggleable__label {background-color: #d4ebff;}#sk-container-id-1 input.sk-hidden--visually {border: 0;clip: rect(1px 1px 1px 1px);clip: rect(1px, 1px, 1px, 1px);height: 1px;margin: -1px;overflow: hidden;padding: 0;position: absolute;width: 1px;}#sk-container-id-1 div.sk-estimator {font-family: monospace;background-color: #f0f8ff;border: 1px dotted black;border-radius: 0.25em;box-sizing: border-box;margin-bottom: 0.5em;}#sk-container-id-1 div.sk-estimator:hover {background-color: #d4ebff;}#sk-container-id-1 div.sk-parallel-item::after {content: \"\";width: 100%;border-bottom: 1px solid gray;flex-grow: 1;}#sk-container-id-1 div.sk-label:hover label.sk-toggleable__label {background-color: #d4ebff;}#sk-container-id-1 div.sk-serial::before {content: \"\";position: absolute;border-left: 1px solid gray;box-sizing: border-box;top: 0;bottom: 0;left: 50%;z-index: 0;}#sk-container-id-1 div.sk-serial {display: flex;flex-direction: column;align-items: center;background-color: white;padding-right: 0.2em;padding-left: 0.2em;position: relative;}#sk-container-id-1 div.sk-item {position: relative;z-index: 1;}#sk-container-id-1 div.sk-parallel {display: flex;align-items: stretch;justify-content: center;background-color: white;position: relative;}#sk-container-id-1 div.sk-item::before, #sk-container-id-1 div.sk-parallel-item::before {content: \"\";position: absolute;border-left: 1px solid gray;box-sizing: border-box;top: 0;bottom: 0;left: 50%;z-index: -1;}#sk-container-id-1 div.sk-parallel-item {display: flex;flex-direction: column;z-index: 1;position: relative;background-color: white;}#sk-container-id-1 div.sk-parallel-item:first-child::after {align-self: flex-end;width: 50%;}#sk-container-id-1 div.sk-parallel-item:last-child::after {align-self: flex-start;width: 50%;}#sk-container-id-1 div.sk-parallel-item:only-child::after {width: 0;}#sk-container-id-1 div.sk-dashed-wrapped {border: 1px dashed gray;margin: 0 0.4em 0.5em 0.4em;box-sizing: border-box;padding-bottom: 0.4em;background-color: white;}#sk-container-id-1 div.sk-label label {font-family: monospace;font-weight: bold;display: inline-block;line-height: 1.2em;}#sk-container-id-1 div.sk-label-container {text-align: center;}#sk-container-id-1 div.sk-container {/* jupyter's `normalize.less` sets `[hidden] { display: none; }` but bootstrap.min.css set `[hidden] { display: none !important; }` so we also need the `!important` here to be able to override the default hidden behavior on the sphinx rendered scikit-learn.org. See: https://github.com/scikit-learn/scikit-learn/issues/21755 */display: inline-block !important;position: relative;}#sk-container-id-1 div.sk-text-repr-fallback {display: none;}</style><div id=\"sk-container-id-1\" class=\"sk-top-container\"><div class=\"sk-text-repr-fallback\"><pre>RandomForestClassifier(criterion=&#x27;entropy&#x27;, max_depth=25, min_samples_leaf=40,\n",
       "                       min_samples_split=90, n_estimators=250, n_jobs=-1,\n",
       "                       oob_score=True, random_state=5)</pre><b>In a Jupyter environment, please rerun this cell to show the HTML representation or trust the notebook. <br />On GitHub, the HTML representation is unable to render, please try loading this page with nbviewer.org.</b></div><div class=\"sk-container\" hidden><div class=\"sk-item\"><div class=\"sk-estimator sk-toggleable\"><input class=\"sk-toggleable__control sk-hidden--visually\" id=\"sk-estimator-id-1\" type=\"checkbox\" checked><label for=\"sk-estimator-id-1\" class=\"sk-toggleable__label sk-toggleable__label-arrow\">RandomForestClassifier</label><div class=\"sk-toggleable__content\"><pre>RandomForestClassifier(criterion=&#x27;entropy&#x27;, max_depth=25, min_samples_leaf=40,\n",
       "                       min_samples_split=90, n_estimators=250, n_jobs=-1,\n",
       "                       oob_score=True, random_state=5)</pre></div></div></div></div></div>"
      ],
      "text/plain": [
       "RandomForestClassifier(criterion='entropy', max_depth=25, min_samples_leaf=40,\n",
       "                       min_samples_split=90, n_estimators=250, n_jobs=-1,\n",
       "                       oob_score=True, random_state=5)"
      ]
     },
     "execution_count": 38,
     "metadata": {},
     "output_type": "execute_result"
    }
   ],
   "source": [
    "model.fit(X, y)"
   ]
  },
  {
   "cell_type": "code",
   "execution_count": 39,
   "metadata": {},
   "outputs": [
    {
     "data": {
      "text/plain": [
       "array([1, 0, 1, 0, 1, 1, 0, 1, 1, 1, 1, 1, 1, 1, 1, 0, 1, 1, 1, 1, 1, 1,\n",
       "       0, 1, 1, 0, 0, 1, 1, 1, 1, 0, 0, 1, 1, 0, 1, 0, 1, 1, 1, 1, 1, 1,\n",
       "       1, 0, 1, 0, 1, 1, 0, 1, 1, 1, 1, 1, 1, 0, 1, 1, 1, 1, 1, 0, 1, 0,\n",
       "       0, 1, 1, 1, 1, 0])"
      ]
     },
     "execution_count": 39,
     "metadata": {},
     "output_type": "execute_result"
    }
   ],
   "source": [
    "model.predict(X2)"
   ]
  },
  {
   "cell_type": "code",
   "execution_count": 40,
   "metadata": {},
   "outputs": [
    {
     "data": {
      "text/plain": [
       "['aapl.joblib']"
      ]
     },
     "execution_count": 40,
     "metadata": {},
     "output_type": "execute_result"
    }
   ],
   "source": [
    "joblib.dump(model, 'aapl.joblib')"
   ]
  },
  {
   "cell_type": "code",
   "execution_count": 55,
   "metadata": {},
   "outputs": [],
   "source": [
    "list1 = ['AAPL', 'MSFT', 'AMZN', 'GOOG', 'GOOGL', 'NVDA', 'TSLA', 'META', 'PEP', 'AVGO']"
   ]
  },
  {
   "cell_type": "code",
   "execution_count": 46,
   "metadata": {},
   "outputs": [],
   "source": [
    "prices = dh.APIPull('MSFT').data.copy()"
   ]
  },
  {
   "cell_type": "code",
   "execution_count": 51,
   "metadata": {},
   "outputs": [],
   "source": [
    "prices = dh.APIPull('TSLA').data.copy()"
   ]
  },
  {
   "cell_type": "code",
   "execution_count": 56,
   "metadata": {},
   "outputs": [
    {
     "data": {
      "text/plain": [
       "'AMZN'"
      ]
     },
     "execution_count": 56,
     "metadata": {},
     "output_type": "execute_result"
    }
   ],
   "source": [
    "f'{list1[2]}'"
   ]
  },
  {
   "cell_type": "code",
   "execution_count": 57,
   "metadata": {},
   "outputs": [],
   "source": [
    "prices = dh.APIPull(f'{list1[2]}').data.copy()"
   ]
  },
  {
   "cell_type": "code",
   "execution_count": 58,
   "metadata": {},
   "outputs": [],
   "source": [
    "for i in list1:    \n",
    "    prices = dh.APIPull(f'{i}').data.copy()\n",
    "\n",
    "    data = prices.copy()\n",
    "\n",
    "    list1 = [1,3, 5, 8, 21]\n",
    "    list2 = [1]\n",
    "\n",
    "    for n in list1:\n",
    "        data[f'RET {n}'] = data['close'].pct_change(n)\n",
    "\n",
    "    data['VOL'] = data['volume'].pct_change(1)\n",
    "\n",
    "    data['target'] = data['RET 1'].shift(-1)\n",
    "    data['target'] = (data['target'] > 0).astype(int)\n",
    "\n",
    "\n",
    "    data = data.drop(['open', 'high', 'low', 'close', 'volume'],axis=1)\n",
    "    data = data.dropna()\n",
    "\n",
    "\n",
    "\n",
    "\n",
    "\n",
    "    data, oos = split(data)\n",
    "    X, y = create_xy(data)\n",
    "    X2, y2 = create_xy(oos)\n",
    "\n",
    "    estimators_int = 250\n",
    "\n",
    "    max_depth_int = 25\n",
    "\n",
    "    min_split = 90\n",
    "    # min_split = 60\n",
    "\n",
    "    min_leaf = 40\n",
    "\n",
    "    f_leaf = 0.0\n",
    "\n",
    "    features = 'sqrt'\n",
    "\n",
    "\n",
    "    rf_clf = RandomForestClassifier(n_estimators=estimators_int,             # default changed from 10 to 100 in version 0.22 \n",
    "                                        criterion='entropy', \n",
    "                                        max_depth=max_depth_int, \n",
    "                                        min_samples_split=min_split, \n",
    "                                        min_samples_leaf=min_leaf, \n",
    "                                        min_weight_fraction_leaf=f_leaf, \n",
    "                                        max_features=features,\n",
    "                                        max_leaf_nodes=None, \n",
    "                                        min_impurity_decrease=0.0, \n",
    "                                        bootstrap=True, \n",
    "                                        oob_score=True, \n",
    "                                        random_state=5,\n",
    "                                        n_jobs=-1,\n",
    "                                        warm_start=False, \n",
    "                                        verbose=0)\n",
    "    model = rf_clf\n",
    "    model.fit(X, y)\n",
    "    joblib.dump(model, '{}.joblib'.format(i.lower()))\n"
   ]
  },
  {
   "cell_type": "code",
   "execution_count": 43,
   "metadata": {},
   "outputs": [
    {
     "name": "stdout",
     "output_type": "stream",
     "text": [
      "aapl\n",
      "msft\n",
      "amzn\n",
      "goog\n",
      "googl\n",
      "nvda\n",
      "tsla\n",
      "meta\n",
      "pep\n",
      "avgo\n"
     ]
    }
   ],
   "source": [
    "for i in list1:\n",
    "    print(i.lower())"
   ]
  },
  {
   "cell_type": "code",
   "execution_count": null,
   "metadata": {},
   "outputs": [],
   "source": []
  }
 ],
 "metadata": {
  "kernelspec": {
   "display_name": "Python 3.9.12 64-bit",
   "language": "python",
   "name": "python3"
  },
  "language_info": {
   "codemirror_mode": {
    "name": "ipython",
    "version": 3
   },
   "file_extension": ".py",
   "mimetype": "text/x-python",
   "name": "python",
   "nbconvert_exporter": "python",
   "pygments_lexer": "ipython3",
   "version": "3.9.12"
  },
  "orig_nbformat": 4,
  "vscode": {
   "interpreter": {
    "hash": "55aa6ee31926abe6a4f792323f9fd421afb11388567725c3aa5e19b2e2580a7f"
   }
  }
 },
 "nbformat": 4,
 "nbformat_minor": 2
}
